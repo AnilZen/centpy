{
 "cells": [
  {
   "cell_type": "markdown",
   "metadata": {
    "colab_type": "text",
    "id": "view-in-github"
   },
   "source": [
    "<a href=\"https://colab.research.google.com/github/AnilZen/centpy/blob/master/notebooks/index.ipynb\" target=\"_parent\"><img src=\"https://colab.research.google.com/assets/colab-badge.svg\" alt=\"Open In Colab\"/></a>"
   ]
  },
  {
   "cell_type": "markdown",
   "metadata": {
    "colab_type": "text",
    "id": "yV2EcAoraEcq"
   },
   "source": [
    "# CentPy Examples and Animations "
   ]
  },
  {
   "cell_type": "markdown",
   "metadata": {
    "colab_type": "text",
    "id": "Ykz62E2Wac2s"
   },
   "source": [
    "### 1D"
   ]
  },
  {
   "cell_type": "markdown",
   "metadata": {
    "colab_type": "text",
    "id": "JNSadHqvZ-zD"
   },
   "source": [
    "- [Burgers](Burgers_1d.ipynb)\n",
    "- [Euler](Euler_1d.ipynb)\n",
    "- [MHD](MHD_1d.ipynb)"
   ]
  },
  {
   "cell_type": "markdown",
   "metadata": {
    "colab_type": "text",
    "id": "XJEPzinZa-Ux"
   },
   "source": [
    "### 2D"
   ]
  },
  {
   "cell_type": "markdown",
   "metadata": {
    "colab_type": "text",
    "id": "o8DTycNGbASO"
   },
   "source": [
    "- [Scalar](Scalar_2d.ipynb)\n",
    "- [Euler](Euler_2d.ipynb)\n",
    "- [MHD](MHD_2d.ipynb)"
   ]
  }
 ],
 "metadata": {
  "colab": {
   "authorship_tag": "ABX9TyPrFDIxYT3l3xp8USBbycVM",
   "collapsed_sections": [],
   "include_colab_link": true,
   "name": "index.ipynb",
   "provenance": []
  },
  "kernelspec": {
   "display_name": "Python 3",
   "language": "python",
   "name": "python3"
  },
  "language_info": {
   "codemirror_mode": {
    "name": "ipython",
    "version": 3
   },
   "file_extension": ".py",
   "mimetype": "text/x-python",
   "name": "python",
   "nbconvert_exporter": "python",
   "pygments_lexer": "ipython3",
   "version": "3.7.3"
  }
 },
 "nbformat": 4,
 "nbformat_minor": 1
}
