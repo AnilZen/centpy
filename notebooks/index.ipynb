{
  "nbformat": 4,
  "nbformat_minor": 0,
  "metadata": {
    "colab": {
      "name": "index.ipynb",
      "provenance": [],
      "collapsed_sections": [],
      "authorship_tag": "ABX9TyOIJB4ASsbJ15AxyYdOBojx",
      "include_colab_link": true
    },
    "kernelspec": {
      "name": "python3",
      "display_name": "Python 3"
    }
  },
  "cells": [
    {
      "cell_type": "markdown",
      "metadata": {
        "id": "view-in-github",
        "colab_type": "text"
      },
      "source": [
        "<a href=\"https://colab.research.google.com/github/AnilZen/centpy/blob/master/notebooks/index.ipynb\" target=\"_parent\"><img src=\"https://colab.research.google.com/assets/colab-badge.svg\" alt=\"Open In Colab\"/></a>"
      ]
    },
    {
      "cell_type": "markdown",
      "metadata": {
        "id": "yV2EcAoraEcq",
        "colab_type": "text"
      },
      "source": [
        "# CentPy Examples and Animations "
      ]
    },
    {
      "cell_type": "markdown",
      "metadata": {
        "id": "CQZvkS9raDd3",
        "colab_type": "text"
      },
      "source": [
        ""
      ]
    },
    {
      "cell_type": "markdown",
      "metadata": {
        "id": "Ykz62E2Wac2s",
        "colab_type": "text"
      },
      "source": [
        "### 1D"
      ]
    },
    {
      "cell_type": "markdown",
      "metadata": {
        "id": "JNSadHqvZ-zD",
        "colab_type": "text"
      },
      "source": [
        "- [Burgers](Burgers_1d.ipynb)\n",
        "- [Euler](Euler_1d.ipynb)\n",
        "- [MHD](MHD_1d.ipynb)"
      ]
    },
    {
      "cell_type": "code",
      "metadata": {
        "id": "X-8prHZBa9Qg",
        "colab_type": "code",
        "colab": {}
      },
      "source": [
        ""
      ],
      "execution_count": null,
      "outputs": []
    },
    {
      "cell_type": "markdown",
      "metadata": {
        "id": "XJEPzinZa-Ux",
        "colab_type": "text"
      },
      "source": [
        "### 2D"
      ]
    },
    {
      "cell_type": "code",
      "metadata": {
        "id": "e9aiyKILa_TI",
        "colab_type": "code",
        "colab": {}
      },
      "source": [
        ""
      ],
      "execution_count": null,
      "outputs": []
    },
    {
      "cell_type": "markdown",
      "metadata": {
        "id": "o8DTycNGbASO",
        "colab_type": "text"
      },
      "source": [
        "- [Scalar](Scalar_2d.ipynb)\n",
        "- [Euler](Euler_2d.ipynb)\n",
        "- [MHD](MHD_2d.ipynb)"
      ]
    },
    {
      "cell_type": "code",
      "metadata": {
        "id": "MdwSFh9FbXdg",
        "colab_type": "code",
        "colab": {}
      },
      "source": [
        ""
      ],
      "execution_count": null,
      "outputs": []
    }
  ]
}