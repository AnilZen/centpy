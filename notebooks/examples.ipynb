{
 "cells": [
  {
   "cell_type": "markdown",
   "metadata": {},
   "source": [
    "# Examples"
   ]
  },
  {
   "cell_type": "code",
   "execution_count": null,
   "metadata": {
    "code_folding": [
     0
    ]
   },
   "outputs": [],
   "source": [
    "# Import simulation packages\n",
    "import numpy as np\n",
    "import centpy"
   ]
  },
  {
   "cell_type": "code",
   "execution_count": null,
   "metadata": {
    "code_folding": [
     0
    ]
   },
   "outputs": [],
   "source": [
    "# Setup up visualization packages\n",
    "%matplotlib notebook\n",
    "from matplotlib import rcParams\n",
    "rcParams['figure.dpi']  = 60\n",
    "import matplotlib.pyplot as plt\n",
    "from matplotlib import animation"
   ]
  },
  {
   "cell_type": "markdown",
   "metadata": {},
   "source": [
    "## 1D Examples "
   ]
  },
  {
   "cell_type": "markdown",
   "metadata": {
    "heading_collapsed": true
   },
   "source": [
    "### Burgers (SD3)"
   ]
  },
  {
   "cell_type": "markdown",
   "metadata": {
    "hidden": true
   },
   "source": [
    "We solve the inviscid Burgers' equation \n",
    "\n",
    "\\begin{equation}\n",
    "\\partial_t u + \\partial_x \\left( \\frac{u^2}{2}\\right) = 0,\n",
    "\\end{equation}\n",
    "\n",
    "on the domain $(x,t)\\in([0,2\\pi]\\times[0,5])$ with initial data\n",
    "\n",
    "\\begin{equation}\n",
    "u(x,0) = \\sin x + \\frac{1}{2} \\sin\\left(\\frac{x}{2}\\right)\\,. \n",
    "\\end{equation}\n",
    "\n",
    "and periodic boundary conditions. The solution is computed using 400 cells and CFL number 0.75."
   ]
  },
  {
   "cell_type": "code",
   "execution_count": null,
   "metadata": {
    "code_folding": [
     0
    ],
    "hidden": true
   },
   "outputs": [],
   "source": [
    "# Parameters\n",
    "\n",
    "pars = centpy.Setup1d(x_init=0.0, x_final=2.0 * np.pi, t_final=10, dt_out=0.05, J=400, cfl=0.75)"
   ]
  },
  {
   "cell_type": "code",
   "execution_count": null,
   "metadata": {
    "code_folding": [
     0
    ],
    "hidden": true
   },
   "outputs": [],
   "source": [
    "# Burgers equation\n",
    "\n",
    "class Burgers(centpy.Equation1d):\n",
    "\n",
    "    def initial_data(self):\n",
    "        return np.sin(self.x) + 0.5 * np.sin(0.5 * self.x)\n",
    "\n",
    "    def boundary_conditions(self, u):\n",
    "        u[0] = u[-4]\n",
    "        u[1] = u[-3]\n",
    "        u[-2] = u[2]\n",
    "        u[-1] = u[3]\n",
    "\n",
    "    def flux_x(self, u):\n",
    "        return 0.5 * u * u\n",
    "\n",
    "    def spectral_radius_x(self, u):\n",
    "        return np.abs(u)\n",
    "    \n",
    "eqn_burgers = Burgers(pars)"
   ]
  },
  {
   "cell_type": "code",
   "execution_count": null,
   "metadata": {
    "code_folding": [
     0
    ],
    "hidden": true
   },
   "outputs": [],
   "source": [
    "# Solver\n",
    "soln_burgers = centpy.Solver1d(eqn_burgers)\n",
    "\n",
    "# Solution\n",
    "soln_burgers.solve()"
   ]
  },
  {
   "cell_type": "code",
   "execution_count": null,
   "metadata": {
    "code_folding": [
     0
    ],
    "hidden": true
   },
   "outputs": [],
   "source": [
    "# Animation \n",
    "j0 = centpy.j0\n",
    "\n",
    "# First set up the figure, the axis, and the plot element we want to animate\n",
    "fig = plt.figure()\n",
    "ax = plt.axes(xlim=(soln_burgers.x_init,soln_burgers.x_final), ylim=(np.min(soln_burgers.u_n), np.max(soln_burgers.u_n)*1.1))\n",
    "\n",
    "line_u, = ax.plot([], [], linewidth=1, marker='o', markersize=2)\n",
    "\n",
    "plt.xlabel('x')\n",
    "plt.ylabel('u')\n",
    "plt.legend([\"burgers\"], loc=3, frameon=False)\n",
    " \n",
    "# initialization function: plot the background of each frame\n",
    "def init():\n",
    "    line_u.set_data([], [])\n",
    "\n",
    "# animation function.  This is called sequentially\n",
    "def animate(i):\n",
    "    line_u.set_data(soln_burgers.x[j0], soln_burgers.u_n[i,j0])\n",
    "    \n",
    "# call the animator.  blit=True means only re-draw the parts that have changed.\n",
    "anim = animation.FuncAnimation(fig, animate, init_func=init, frames=soln_burgers.Nt, interval=100, blit=False)\n",
    " \n",
    "plt.show()"
   ]
  },
  {
   "cell_type": "markdown",
   "metadata": {
    "heading_collapsed": true
   },
   "source": [
    "### Euler (SD2)"
   ]
  },
  {
   "cell_type": "markdown",
   "metadata": {
    "hidden": true
   },
   "source": [
    "We solve the Euler equations in 1D \n",
    "\n",
    "\\begin{equation} \n",
    "\\partial_t \n",
    "\\begin{bmatrix} \\rho \\\\ \\rho v \\\\ E \\end{bmatrix} \n",
    "+ \n",
    "\\partial_x \n",
    "\\begin{bmatrix} \\rho v \\\\ \\rho v^2 +p \\\\ v (E+p) \\end{bmatrix} \n",
    "= 0 \n",
    "\\end{equation}\n",
    "\n",
    "with the equation of state\n",
    "\n",
    "\\begin{equation}\n",
    "p = (\\gamma-1) \\left(E-\\frac{1}{2} \\rho v^2\\right), \\qquad \\gamma=1.4\n",
    "\\end{equation}\n",
    "\n",
    "on the domain $(x,t)\\in([0,1]\\times[0,0.1])$ with initial data for a *Sod shock tube*:\n",
    "\n",
    "\\begin{equation}\n",
    "(\\rho, v, p)_{t=0} = \n",
    "\\begin{cases}\n",
    "(1,0,1) & \\text{if} & 0<x\\leq0.5 \\\\\n",
    "(0.125, 0, 0.1) & \\text{if} & 0.5<x<1\n",
    "\\end{cases}\n",
    "\\end{equation}\n",
    "\n",
    "and Dirichlet boundary data set by initial data on each boundary. The solution is computed using 400 cells and CFL number 0.75."
   ]
  },
  {
   "cell_type": "code",
   "execution_count": null,
   "metadata": {
    "code_folding": [
     0
    ],
    "hidden": true
   },
   "outputs": [],
   "source": [
    "# Parameters\n",
    "pars_euler = centpy.Setup1d(x_init=0.0, x_final=1.0, t_final=0.3, dt_out=0.004, J=400, cfl=0.75, scheme = 'sd2')"
   ]
  },
  {
   "cell_type": "code",
   "execution_count": null,
   "metadata": {
    "code_folding": [
     0
    ],
    "hidden": true
   },
   "outputs": [],
   "source": [
    "# Euler equation class and instance\n",
    "\n",
    "class Euler(centpy.Equation1d):\n",
    "    def __init__(self, setup, gamma):\n",
    "        self.gamma = gamma\n",
    "        super().__init__(setup)\n",
    "\n",
    "    def initial_data(self):\n",
    "        u = np.zeros((self.J + 4, 3))\n",
    "        midpoint = int(self.J / 2) + 2\n",
    "\n",
    "        left_v = [1, 0, 1.0 / (self.gamma - 1.0)]\n",
    "        right_v = [0.125, 0.0, 0.1 / (self.gamma - 1.0)]\n",
    "\n",
    "        # Left side\n",
    "        u[:midpoint, :] = left_v\n",
    "        # Right side\n",
    "        u[midpoint:, :] = right_v\n",
    "\n",
    "        return u\n",
    "\n",
    "    def boundary_conditions(self, u):\n",
    "        left_v = [1, 0, 1.0 / (self.gamma - 1.0)]\n",
    "        right_v = [0.125, 0.0, 0.1 / (self.gamma - 1.0)]\n",
    "        # Left side\n",
    "        u[0] = left_v\n",
    "        u[1] = left_v\n",
    "        # Right side\n",
    "        u[-1] = right_v\n",
    "        u[-2] = right_v\n",
    "\n",
    "    def flux_x(self, u):\n",
    "        f = np.zeros_like(u)\n",
    "        rho = u[:, 0]\n",
    "        u_x = u[:, 1] / rho\n",
    "        E = u[:, 2]\n",
    "        p = (self.gamma - 1.0) * (E - 0.5 * rho * u_x ** 2)\n",
    "\n",
    "        f[:, 0] = rho * u_x\n",
    "        f[:, 1] = rho * u_x ** 2 + p\n",
    "        f[:, 2] = u_x * (E + p)\n",
    "\n",
    "        return f\n",
    "\n",
    "    def spectral_radius_x(self, u):\n",
    "        rho = u[:, 0]\n",
    "        u_x = u[:, 1] / rho\n",
    "        p = (self.gamma - 1.0) * (u[:, 2] - 0.5 * rho * u_x ** 2)\n",
    "        return np.abs(u_x) + np.sqrt(self.gamma * p / rho)\n",
    "    \n",
    "# Equation instance\n",
    "eqn_euler = Euler(pars_euler, gamma=1.4)"
   ]
  },
  {
   "cell_type": "code",
   "execution_count": null,
   "metadata": {
    "code_folding": [
     0
    ],
    "hidden": true
   },
   "outputs": [],
   "source": [
    "# Solver instance\n",
    "soln_euler = centpy.Solver1d(eqn_euler)\n",
    "\n",
    "# Solution\n",
    "soln_euler.solve()"
   ]
  },
  {
   "cell_type": "code",
   "execution_count": null,
   "metadata": {
    "code_folding": [
     0
    ],
    "hidden": true
   },
   "outputs": [],
   "source": [
    "# Animation \n",
    "u_n = soln_euler.u_n.copy()\n",
    "x   = soln_euler.x.copy()\n",
    "gamma = soln_euler.gamma \n",
    "Nt = soln_euler.Nt \n",
    "\n",
    "# First set up the figure, the axis, and the plot element we want to animate\n",
    "fig = plt.figure(figsize=(10,8))\n",
    "ax1=fig.add_subplot(1,2,1)\n",
    "ax2=fig.add_subplot(2,2,2)\n",
    "ax3=fig.add_subplot(2,2,4)\n",
    "#ax = plt.axes(xlim=(x_init,x_final), ylim=(np.min(u_n), np.max(u_n)*1.1))\n",
    "\n",
    "line_u1, = ax1.plot([], [], linewidth=1, marker='o', markersize=2)\n",
    "line_u2, = ax2.plot([], [], linewidth=1, marker='o', markersize=2)\n",
    "line_u3, = ax3.plot([], [], linewidth=1, marker='o', markersize=2)\n",
    "\n",
    "ax1.set_xlabel('x')\n",
    "ax3.set_xlabel('x')\n",
    "ax1.set_ylabel(r'$\\rho$')\n",
    "ax2.set_ylabel(r'$v_x$')\n",
    "ax3.set_ylabel(r'$p$')\n",
    "ax1.set_ylim(0.1, 1.05)\n",
    "ax2.set_ylim(0, 1)\n",
    "ax3.set_ylim(0.05, 1.1)\n",
    "#plt.legend([\"u0\",\"u1\",\"u2\"], loc=3, frameon=False)\n",
    "\n",
    "plt.subplots_adjust(bottom=0.1, right=0.8, top=0.9)\n",
    "\n",
    "# initialization function: plot the background of each frame\n",
    "def init():\n",
    "    line_u1.set_data([], [])\n",
    "    line_u2.set_data([], [])\n",
    "    line_u3.set_data([], [])\n",
    "\n",
    "# animation function.  This is called sequentially\n",
    "def animate(i):\n",
    "    rho=u_n[i,j0,0]\n",
    "    u_x = u_n[i,j0,1]/u_n[i,j0,0]\n",
    "    p = (gamma-1.)*(u_n[i,j0,2]-0.5*rho*u_x**2)\n",
    "    line_u1.set_data(x[j0], rho)\n",
    "    line_u2.set_data(x[j0], u_x)\n",
    "    line_u3.set_data(x[j0], p)\n",
    "    \n",
    "# call the animator.  blit=True means only re-draw the parts that have changed.\n",
    "anim = animation.FuncAnimation(fig, animate, init_func=init, frames=Nt, interval=100, blit=False)\n",
    " \n",
    "plt.show()"
   ]
  },
  {
   "cell_type": "markdown",
   "metadata": {
    "heading_collapsed": true
   },
   "source": [
    "### MHD (FD2)"
   ]
  },
  {
   "cell_type": "markdown",
   "metadata": {
    "hidden": true
   },
   "source": [
    "We solve the equations of ideal magnetohydrodynamics in 1D \n",
    "\n",
    "\\begin{equation} \n",
    "\\partial_t \n",
    "\\begin{bmatrix} \n",
    "\\rho \\\\ \\rho v_x \\\\ \\rho v_y \\\\ \\rho v_z \\\\ B_y \\\\ B_z \\\\ E \n",
    "\\end{bmatrix} \n",
    "+ \n",
    "\\partial_x \n",
    "\\begin{bmatrix} \n",
    "\\rho v_x \\\\ \\rho v_x^2 + p^* - B_x^2 \\\\ \\rho v_x v_y - B_x B_y \\\\\n",
    "\\rho v_x v_z - B_x B_z \\\\ B_y v_x - B_x v_y \\\\ B_z v_x - B_x v_z \\\\\n",
    "(E+p^*) v_x - B_x (B_x v_x + B_y v_y + B_z v_Z) \n",
    "\\end{bmatrix} \n",
    "= 0 \n",
    "\\end{equation}\n",
    "\n",
    "where the total pressure is given by \n",
    "\n",
    "\\begin{equation}\n",
    "p^* = p + \\frac{1}{2} (B_x^2 + B_y^2 + B_z^2)\n",
    "\\end{equation}\n",
    "\n",
    "with the equation of state\n",
    "\n",
    "\\begin{equation}\n",
    "p = (\\gamma-1) \\left(E-\\frac{1}{2} \\rho (v_x^2+v_y^2+v_z^2) - \n",
    "\\frac{1}{2}(B_x^2 + B_y^2 + B_z^2)\\right), \\qquad \\gamma=2.0\n",
    "\\end{equation}\n",
    "\n",
    "The solution is computed on the domain $(x,t)\\in([-1,1]\\times[0,0.2])$ with initial data for a *Brio-Wu shock tube*:\n",
    "\n",
    "\\begin{equation}\n",
    "(\\rho, v_x, v_y, v_z, B_y, B_z, p)_{t=0} = \n",
    "\\begin{cases}\n",
    "(1,0,0,0,1,0,1) & \\text{if} & -1<x\\leq 0 \\\\\n",
    "(0.125, 0, 0, 0, -1, 0, 0.1) & \\text{if} & \\ \\ 0<x<1\n",
    "\\end{cases}\n",
    "\\end{equation}\n",
    "\n",
    "and Dirichlet boundary data set by initial data on each boundary. The solution is computed using 400 cells and CFL number 0.475."
   ]
  },
  {
   "cell_type": "code",
   "execution_count": null,
   "metadata": {
    "code_folding": [
     0
    ],
    "hidden": true
   },
   "outputs": [],
   "source": [
    "# Parameters\n",
    "pars_mhd = centpy.Setup1d(x_init=-1.0, x_final=1.0, t_final=0.2, dt_out=0.002, J=400, cfl=0.475, scheme = 'fd2')"
   ]
  },
  {
   "cell_type": "code",
   "execution_count": null,
   "metadata": {
    "code_folding": [
     0
    ],
    "hidden": true
   },
   "outputs": [],
   "source": [
    "# MHD equation\n",
    "\n",
    "class MHD(centpy.Equation1d):\n",
    "    def __init__(self, setup, B1):\n",
    "        self.B1 = B1\n",
    "        super().__init__(setup)\n",
    "\n",
    "    def pressure(self,u):\n",
    "        return u[:,6]-0.5*((u[:,1]**2+u[:,2]**2+u[:,3]**2)/u[:,0])-0.5*(self.B1**2+u[:,4]**2+u[:,5]**2)\n",
    "\n",
    "    def initial_data(self):\n",
    "        u=np.zeros((self.J+4,7))\n",
    "        midpoint = int(self.J/2)+2\n",
    "\n",
    "        # Left side\n",
    "        u[:midpoint,0] = 1.\n",
    "        u[:midpoint,1] = 0.\n",
    "        u[:midpoint,2] = 0.\n",
    "        u[:midpoint,3] = 0.\n",
    "        u[:midpoint,4] = 1.\n",
    "        u[:midpoint,5] = 0.\n",
    "        u[:midpoint,6] = 1.+25./32.\n",
    "\n",
    "        # Right side\n",
    "        u[midpoint:,0] = 0.125\n",
    "        u[midpoint:,1] = 0.\n",
    "        u[midpoint:,2] = 0.\n",
    "        u[midpoint:,3] = 0.\n",
    "        u[midpoint:,4] = -1.\n",
    "        u[midpoint:,5] = 0.\n",
    "        u[midpoint:,6] = 0.1+25./32.    \n",
    "\n",
    "        return u\n",
    "\n",
    "    def boundary_conditions(self,u):\n",
    "\n",
    "        left_v = [1., 0.,0.,0.,1.,0.,1.+25./32.]\n",
    "        right_v = [0.125,0.,0.,0.,-1.,0.,.1+25./32]\n",
    "\n",
    "        if(centpy.odd):\n",
    "            u[0] = left_v\n",
    "            u[-1]= right_v\n",
    "            u[-2]= right_v\n",
    "        else:\n",
    "            u[0] = left_v\n",
    "            u[1] = left_v\n",
    "            u[-1]= right_v\n",
    "\n",
    "#     def boundary_conditions(self, u): # if using a non-staggered grid\n",
    "\n",
    "#         left_v = [1., 0.,0.,0.,1.,0.,1.+25./32.]\n",
    "#         right_v = [0.125,0.,0.,0.,-1.,0.,.1+25./32]\n",
    "\n",
    "#         u[0] = left_v\n",
    "#         u[1] = left_v\n",
    "#         u[-1]= right_v\n",
    "#         u[-2]= right_v\n",
    "\n",
    "#         return u    \n",
    "    \n",
    "    def flux_x(self,u):\n",
    "        f = np.zeros_like(u)\n",
    "        \n",
    "        B1 = self.B1\n",
    "        \n",
    "        p_star = self.pressure(u)+0.5*(B1**2+u[:,4]**2+u[:,5]**2)\n",
    "\n",
    "        f[:,0] = u[:,1]\n",
    "        f[:,1] = u[:,1]**2/u[:,0]+p_star\n",
    "        f[:,2] = u[:,1]*u[:,2]/u[:,0]-B1*u[:,4]\n",
    "        f[:,3] = u[:,1]*u[:,3]/u[:,0]-B1*u[:,5]\n",
    "        f[:,4] = u[:,1]*u[:,4]/u[:,0]-B1*u[:,2]/u[:,0]\n",
    "        f[:,5] = u[:,1]*u[:,5]/u[:,0]-B1*u[:,3]/u[:,0]\n",
    "        f[:,6] = (u[:,6]+p_star)*(u[:,1]/u[:,0]) -B1*(B1*u[:,1]+u[:,2]*u[:,4]+u[:,3]*u[:,5])/u[:,0]\n",
    "\n",
    "        return f\n",
    "\n",
    "    def spectral_radius_x(self, u):\n",
    "        rho=u[:,0]  \n",
    "        u_x = u[:,1]/rho\n",
    "        p = self.pressure(u)\n",
    "        A = 2.0*p/rho\n",
    "        B = (self.B1**2 + u[:,4]**2 + u[:,5]**2)/rho\n",
    "        cf = np.sqrt(0.5*(A+B+np.sqrt((A+B)**2-4.*A*self.B1**2/rho)))\n",
    "        return np.abs(u_x) + cf\n",
    "    \n",
    "# Equation\n",
    "eqn_mhd = MHD(pars_mhd, B1=0.75)"
   ]
  },
  {
   "cell_type": "code",
   "execution_count": null,
   "metadata": {
    "code_folding": [
     0
    ],
    "hidden": true
   },
   "outputs": [],
   "source": [
    "# Solver instance\n",
    "soln_mhd = centpy.Solver1d(eqn_mhd)\n",
    "\n",
    "# Solution\n",
    "soln_mhd.solve()"
   ]
  },
  {
   "cell_type": "code",
   "execution_count": null,
   "metadata": {
    "code_folding": [
     0
    ],
    "hidden": true
   },
   "outputs": [],
   "source": [
    "# Animation \n",
    " \n",
    "u_n = soln_mhd.u_n.copy()\n",
    "x   = soln_mhd.x.copy()\n",
    "Nt  = soln_mhd.Nt \n",
    "pressure = eqn_mhd.pressure\n",
    "# First set up the figure, the axis, and the plot element we want to animate\n",
    "fig = plt.figure(figsize=(12,6))\n",
    "ax1=fig.add_subplot(1,3,1)\n",
    "ax2=fig.add_subplot(2,3,2)\n",
    "ax3=fig.add_subplot(2,3,3)\n",
    "ax4=fig.add_subplot(2,3,5)\n",
    "ax5=fig.add_subplot(2,3,6)\n",
    "#ax = plt.axes(xlim=(x_init,x_final), ylim=(np.min(u_n), np.max(u_n)*1.1))\n",
    "\n",
    "line_u1, = ax1.plot([], [], linewidth=1, marker='o', markersize=2)\n",
    "line_u2, = ax2.plot([], [], linewidth=1, marker='o', markersize=2)\n",
    "line_u3, = ax3.plot([], [], linewidth=1, marker='o', markersize=2)\n",
    "line_u4, = ax4.plot([], [], linewidth=1, marker='o', markersize=2)\n",
    "line_u5, = ax5.plot([], [], linewidth=1, marker='o', markersize=2)\n",
    "\n",
    "ax1.set_xlabel('x')\n",
    "ax4.set_xlabel('x')\n",
    "ax5.set_xlabel('x')\n",
    "\n",
    "ax2.set_xticks([])\n",
    "ax3.set_xticks([])\n",
    "ax2.set_yticks([])\n",
    "ax3.set_yticks([])\n",
    "ax4.set_yticks([])\n",
    "ax5.set_yticks([])\n",
    "\n",
    "ax1.set_ylabel(r'$\\rho$', fontsize=12)\n",
    "ax2.set_ylabel(r'$v_x$', fontsize=12)\n",
    "ax3.set_ylabel(r'$v_y$', fontsize=12)\n",
    "ax4.set_ylabel(r'$B_y$', fontsize=12)\n",
    "ax5.set_ylabel(r'$p$', fontsize=12)\n",
    "\n",
    "# Primitive variables\n",
    "rho=u_n[:,j0,0]\n",
    "v_x = u_n[:,j0,1]/u_n[:,j0,0]\n",
    "v_y = u_n[:,j0,2]/u_n[:,j0,0]\n",
    "B_y = u_n[:,j0,4]\n",
    "\n",
    "ax1.set_xlim(-1, 1)\n",
    "ax2.set_xlim(-1, 1)\n",
    "ax3.set_xlim(-1, 1)\n",
    "ax4.set_xlim(-1, 1)\n",
    "ax5.set_xlim(-1, 1)\n",
    "ax1.set_ylim(np.min(rho), np.max(rho))\n",
    "ax2.set_ylim(np.min(v_x), np.max(v_x))\n",
    "ax3.set_ylim(np.min(v_y), np.max(v_y))\n",
    "ax4.set_ylim(np.min(B_y), np.max(B_y))\n",
    "ax5.set_ylim(0.05, 1.)\n",
    "\n",
    "#plt.subplots_adjust(bottom=0.1, right=0.8, top=0.9)\n",
    "\n",
    "# initialization function: plot the background of each frame\n",
    "def init():\n",
    "    line_u1.set_data([], [])\n",
    "    line_u2.set_data([], [])\n",
    "    line_u3.set_data([], [])\n",
    "    line_u4.set_data([], [])\n",
    "    line_u5.set_data([], [])\n",
    "\n",
    "# animation function.  This is called sequentially\n",
    "def animate(i):\n",
    "    p = pressure(u_n[i,j0,:])\n",
    "    line_u1.set_data(x[j0], rho[i])\n",
    "    line_u2.set_data(x[j0], v_x[i])\n",
    "    line_u3.set_data(x[j0], v_y[i])\n",
    "    line_u4.set_data(x[j0], B_y[i])\n",
    "    line_u5.set_data(x[j0], p)\n",
    "    \n",
    "# call the animator.  blit=True means only re-draw the parts that have changed.\n",
    "anim = animation.FuncAnimation(fig, animate, init_func=init, frames=Nt, interval=100, blit=False)\n",
    " \n",
    "plt.show()"
   ]
  },
  {
   "cell_type": "markdown",
   "metadata": {},
   "source": [
    "## 2D Examples"
   ]
  },
  {
   "cell_type": "markdown",
   "metadata": {
    "heading_collapsed": true
   },
   "source": [
    "### Scalar (SD3)"
   ]
  },
  {
   "cell_type": "markdown",
   "metadata": {
    "hidden": true
   },
   "source": [
    "We solve the nonlinear scalar conservation law \n",
    "\n",
    "\\begin{equation}\n",
    "\\partial_t u + \\partial_x \\sin u + \\frac{1}{3} \\partial_y u^3= 0,\n",
    "\\end{equation}\n",
    "\n",
    "on the domain $(x,y,t)\\in([0,2\\pi]\\times[0,2\\pi]\\times[0,6])$ with initial data\n",
    "\n",
    "\\begin{equation}\n",
    "u(x,y,0) = \\sin \\left(x+\\frac{1}{2}\\right) \\cos(2x+y)\n",
    "\\end{equation}\n",
    "\n",
    "and periodic boundary conditions. The solution is computed using a 144 $\\times$ 144 mesh and CFL number 0.9."
   ]
  },
  {
   "cell_type": "code",
   "execution_count": null,
   "metadata": {
    "code_folding": [
     0
    ],
    "hidden": true
   },
   "outputs": [],
   "source": [
    "# Parameters\n",
    "pars_scalar = centpy.Setup2d(\n",
    "    x_init = 0.0, x_final = 2.*np.pi,\n",
    "    y_init = 0.0, y_final = 2.*np.pi,\n",
    "    J = 144, K = 144,\n",
    "    t_final = 6.0, dt_out = 0.1, cfl = 0.9, scheme='sd3')"
   ]
  },
  {
   "cell_type": "code",
   "execution_count": null,
   "metadata": {
    "code_folding": [
     0
    ],
    "hidden": true
   },
   "outputs": [],
   "source": [
    "# Equation\n",
    "\n",
    "class Scalar(centpy.Equation2d):\n",
    "\n",
    "    def flux_x(self, u):\n",
    "        return np.sin(u)\n",
    "\n",
    "    def flux_y(self, u):\n",
    "        return 1./3.*u**3\n",
    "\n",
    "    def initial_data(self): \n",
    "        return np.sin(self.xx.T+0.5)*np.cos(2*self.xx.T+self.yy.T)\n",
    "    \n",
    "    def boundary_conditions(self,u):\n",
    "        # x-boundary\n",
    "        u[0] = u[-4]\n",
    "        u[1] = u[-3]\n",
    "        u[-2] = u[2]\n",
    "        u[-1] = u[3]\n",
    "        # y-boundary\n",
    "        u[:,0] = u[:,-4]\n",
    "        u[:,1] = u[:,-3]\n",
    "        u[:,-2] = u[:,2]\n",
    "        u[:,-1] = u[:,3]    \n",
    "\n",
    "    def spectral_radius_x(self,u):\n",
    "        return np.abs(np.cos(u))\n",
    "\n",
    "    def spectral_radius_y(self,u):\n",
    "        return u**2\n",
    "    \n",
    "# Instance\n",
    "eqn_scalar = Scalar(pars_scalar)"
   ]
  },
  {
   "cell_type": "code",
   "execution_count": null,
   "metadata": {
    "code_folding": [
     0
    ],
    "hidden": true
   },
   "outputs": [],
   "source": [
    "# Solution\n",
    "soln_scalar = centpy.Solver2d(eqn_scalar)\n",
    "soln_scalar.solve()"
   ]
  },
  {
   "cell_type": "code",
   "execution_count": null,
   "metadata": {
    "code_folding": [
     0
    ],
    "hidden": true
   },
   "outputs": [],
   "source": [
    "# Animation\n",
    "x_init = soln_scalar.x_init\n",
    "x_final = soln_scalar.x_final\n",
    "y_init = soln_scalar.y_init\n",
    "y_final = soln_scalar.y_final\n",
    "x = soln_scalar.x\n",
    "y = soln_scalar.y\n",
    "u_n = soln_scalar.u_n\n",
    "Nt = soln_scalar.Nt\n",
    "j0 = centpy.j0\n",
    "\n",
    "\n",
    "fig = plt.figure()\n",
    "ax = plt.axes(xlim=(x_init,x_final), ylim=(y_init, y_final))\n",
    "\n",
    "ax.set_title(\"Nonlinear scalar\")\n",
    "ax.set_xlabel(\"x\")\n",
    "ax.set_ylabel(\"y\")\n",
    "\n",
    "contours=ax.contour(x[j0], y[j0], u_n[0,j0,j0], 8, colors='black') \n",
    "img=ax.imshow(u_n[0,j0,j0], extent=[0, 6.3, 0, 6.3], origin='lower',\n",
    "           cmap='ocean', alpha=0.5)\n",
    "#cl=ax.clabel(contours, inline=True, fontsize=8)\n",
    "\n",
    "fig.colorbar(img)\n",
    "plt.axis(aspect='image')\n",
    "def animate(i):\n",
    "    ax.collections = []\n",
    "    ax.contour(x[j0], y[j0], u_n[i,j0,j0], 8, colors='black') \n",
    "#    cl=ax.clabel(contours, inline=True, fontsize=8)\n",
    "    img.set_array(u_n[i,j0,j0])\n",
    "    img.autoscale()\n",
    "    \n",
    "# call the animator.  blit=True means only re-draw the parts that have changed.\n",
    "anim = animation.FuncAnimation(fig, animate, frames=Nt, interval=100, blit=False)\n",
    " \n",
    "plt.show()"
   ]
  },
  {
   "cell_type": "markdown",
   "metadata": {
    "heading_collapsed": true
   },
   "source": [
    "### Euler (FD2)"
   ]
  },
  {
   "cell_type": "markdown",
   "metadata": {
    "hidden": true
   },
   "source": [
    "We solve the Euler equations in 2D \n",
    "\n",
    "\\begin{equation} \n",
    "\\partial_t \n",
    "\\begin{bmatrix} \\rho \\\\ \\rho u_x \\\\ rho u_y \\\\ E \\end{bmatrix} \n",
    "+ \n",
    "\\partial_x \n",
    "\\begin{bmatrix} \\rho u_x \\\\ \\rho u_x^2 + p \\\\  \\rho u_x u_y \\\\ (E+p) u_x \\end{bmatrix} \n",
    "+ \n",
    "\\partial_y \n",
    "\\begin{bmatrix} \\rho u_y \\\\ \\rho u_y u_x \\\\  \\rho u_y^2 +p \\\\ (E+p) u_y \\end{bmatrix} \n",
    "= 0 \n",
    "\\end{equation}\n",
    "\n",
    "with the equation of state\n",
    "\n",
    "\\begin{equation}\n",
    "p = (\\gamma-1) \\left(E-\\frac{1}{2} \\rho (u_x^2 - u_y^2) \\right), \\qquad \\gamma=1.4\n",
    "\\end{equation}\n",
    "\n",
    "on the domain $(x,y,t)\\in([0,1]\\times[0,1]\\times[0,0.1])$ with initial data for a *2D Riemann problem*:\n",
    "\n",
    "\\begin{equation}\n",
    "(\\rho, v, p)_{t=0} = \n",
    "\\begin{cases}\n",
    "(1,0,1) & \\text{if} & 0<x\\leq0.5 \\\\\n",
    "(0.125, 0, 0.1) & \\text{if} & 0.5<x<1\n",
    "\\end{cases}\n",
    "\\end{equation}\n",
    "\n",
    "and Dirichlet boundary data set by initial data on each boundary. The solution is computed using a 200 $\\times$ 200 mesh and CFL number 0.75."
   ]
  },
  {
   "cell_type": "code",
   "execution_count": null,
   "metadata": {
    "code_folding": [
     0
    ],
    "hidden": true
   },
   "outputs": [],
   "source": [
    "# Parameters\n",
    "pars_euler = centpy.schemes2d.Setup2d(\n",
    "    x_init = 0.0, x_final = 1.0,\n",
    "    y_init = 0.0, y_final = 1.0,\n",
    "    J = 200, K = 200,\n",
    "    t_final = 0.4, dt_out = 0.005, cfl = 0.475, scheme='fd2')"
   ]
  },
  {
   "cell_type": "code",
   "execution_count": null,
   "metadata": {
    "code_folding": [
     0,
     1,
     4
    ],
    "hidden": true
   },
   "outputs": [],
   "source": [
    "# Helper functions for the equation\n",
    "def pressure(u, gamma):\n",
    "    return (gamma-1.0)*(u[:,:,3]-0.5*(u[:,:,1]**2+u[:,:,2]**2)/u[:,:,0])\n",
    "\n",
    "def euler_data(gamma):\n",
    "\n",
    "    p_one=1.5\n",
    "    p_two=0.3\n",
    "    p_three=0.029\n",
    "    p_four=0.3\n",
    "      \n",
    "    upper_right,upper_left,lower_right,lower_left = np.ones((4,4))\n",
    "    \n",
    "    upper_right[0] = 1.5\n",
    "    upper_right[1] = 0.0\n",
    "    upper_right[2] = 0.0\n",
    "    upper_right[3] = p_one/(gamma - 1.0) + 0.5*(upper_right[1]**2 + upper_right[2]**2)/upper_right[0]\n",
    "\n",
    "    upper_left[0] = 0.5323\n",
    "    upper_left[1] = 1.206*upper_left[0]\n",
    "    upper_left[2] = 0.0\n",
    "    upper_left[3] = p_two/(gamma - 1.0) + 0.5*(upper_left[1]**2 + upper_left[2]**2)/upper_left[0]\n",
    "\n",
    "    lower_right[0] = 0.5323\n",
    "    lower_right[1] = 0.0\n",
    "    lower_right[2] = 1.206*lower_right[0]\n",
    "    lower_right[3] = p_four/(gamma - 1.0) + 0.5*(lower_right[1]**2 + lower_right[2]**2)/lower_right[0]\n",
    "\n",
    "    lower_left[0] = 0.138\n",
    "    lower_left[1] = 1.206*lower_left[0]\n",
    "    lower_left[2] = 1.206*lower_left[0]\n",
    "    lower_left[3] = p_three/(gamma - 1.0) + 0.5*(lower_left[1]**2 + lower_left[2]**2)/lower_left[0]\n",
    "\n",
    "    return upper_right,upper_left,lower_right,lower_left"
   ]
  },
  {
   "cell_type": "code",
   "execution_count": null,
   "metadata": {
    "code_folding": [
     0
    ],
    "hidden": true
   },
   "outputs": [],
   "source": [
    "# Equation\n",
    "\n",
    "class Euler(centpy.Equation2d):\n",
    "\n",
    "    j0 = centpy.j0\n",
    "    \n",
    "    def __init__(self, setup, gamma):\n",
    "        self.gamma = gamma\n",
    "        super().__init__(setup)\n",
    "\n",
    "    def initial_data(self): \n",
    "        u=np.empty((self.J+4,self.K+4,4))\n",
    "        midJ = int(self.J/2)+2\n",
    "        midK = int(self.K/2)+2\n",
    "\n",
    "        one_matrix = np.ones(u[midJ:,midK:].shape)\n",
    "        upper_right,upper_left,lower_right,lower_left = euler_data(self.gamma)\n",
    "\n",
    "        u[midJ:,midK:] = upper_right*one_matrix\n",
    "        u[:midJ,midK:] = upper_left*one_matrix\n",
    "        u[midJ:,:midK] = lower_right*one_matrix\n",
    "        u[:midJ,:midK] = lower_left*one_matrix\n",
    "        return u\n",
    "\n",
    "    def boundary_conditions(self, u):\n",
    "\n",
    "        upper_right,upper_left,lower_right,lower_left = euler_data(self.gamma)\n",
    "        \n",
    "        if(centpy.odd):\n",
    "            j=slice(1,-2)\n",
    "            u[j,0] = u[j,1]\n",
    "            u[j,-2]= u[j,-3]\n",
    "            u[j,-1]= u[j,-3]\n",
    "\n",
    "            u[0,j] = u[1,j]\n",
    "            u[-2,j]= u[-3,j]\n",
    "            u[-1,j]= u[-3,j]\n",
    "\n",
    "             # one\n",
    "            u[-2,-2] = upper_right \n",
    "            u[-1,-2] = upper_right\n",
    "            u[-2,-1] = upper_right\n",
    "            u[-1,-1] = upper_right\n",
    "\n",
    "            # two\n",
    "            u[0,-2] = upper_left\n",
    "            u[0,-1] = upper_left \n",
    "\n",
    "            # three\n",
    "            u[0,0] = lower_left\n",
    "            u[0,1] = lower_left\n",
    "            u[1,0] = lower_left\n",
    "            u[1,1] = lower_left    \n",
    "\n",
    "            # four\n",
    "            u[-2,0] = lower_right\n",
    "            u[-1,0] = lower_right\n",
    "            u[-2,1] = lower_right\n",
    "            u[-1,1] = lower_right\n",
    "\n",
    "        else:\n",
    "\n",
    "            j=slice(2,-1)\n",
    "            u[j,0] = u[j,2]\n",
    "            u[j,1] = u[j,2]\n",
    "            u[j,-1]= u[j,-2]\n",
    "\n",
    "            u[0,j] = u[2,j]\n",
    "            u[1,j] = u[2,j]\n",
    "            u[-1,j]= u[-2,j]\n",
    "\n",
    "            # one\n",
    "            u[-1,-2] = upper_right \n",
    "            u[-1,-1] = upper_right\n",
    "\n",
    "            # two\n",
    "            u[0,-2] = upper_left\n",
    "            u[0,-1] = upper_left \n",
    "            u[1,-2] = upper_left \n",
    "            u[1,-1] = upper_left \n",
    "\n",
    "            # three\n",
    "            u[0,0] = lower_left\n",
    "            u[0,1] = lower_left\n",
    "            u[1,0] = lower_left\n",
    "            u[1,1] = lower_left\n",
    "\n",
    "            # four\n",
    "            u[-1,0] = lower_right \n",
    "            u[-1,1] = lower_right\n",
    "    \n",
    "    def flux_x(self,u):\n",
    "        f = np.empty_like(u)\n",
    "\n",
    "        p=pressure(u, self.gamma)\n",
    "\n",
    "        f[:,:,0]=u[:,:,1]\n",
    "        f[:,:,1]=u[:,:,1]**2/u[:,:,0] + p\n",
    "        f[:,:,2]=u[:,:,1]*u[:,:,2]/u[:,:,0]\n",
    "        f[:,:,3]=(u[:,:,3]+p)*u[:,:,1]/u[:,:,0]  \n",
    "\n",
    "        return f\n",
    "\n",
    "    def flux_y(self, u):\n",
    "        g = np.empty_like(u)\n",
    "\n",
    "        p=pressure(u, self.gamma)\n",
    "\n",
    "        g[:,:,0]=u[:,:,2]\n",
    "        g[:,:,1]=u[:,:,1]*u[:,:,2]/u[:,:,0]\n",
    "        g[:,:,2]=u[:,:,2]**2/u[:,:,0] + p\n",
    "        g[:,:,3]=(u[:,:,3]+p)*u[:,:,2]/u[:,:,0]  \n",
    "\n",
    "        return g                   \n",
    "    \n",
    "    def spectral_radius_x(self, u):\n",
    "        rho=u[j0,j0,0]\n",
    "        vx=u[j0,j0,1]/rho\n",
    "        vy=u[j0,j0,2]/rho\n",
    "        p=(self.gamma-1.0)*(u[j0,j0,3]-.5*rho*(vx**2 + vy**2))\n",
    "        c=np.sqrt(self.gamma*p/rho)\n",
    "        return np.abs(vx)+c\n",
    "\n",
    "    def spectral_radius_y(self,u):\n",
    "        rho=u[j0,j0,0]\n",
    "        vx=u[j0,j0,1]/rho\n",
    "        vy=u[j0,j0,2]/rho\n",
    "        p=(self.gamma-1.0)*(u[j0,j0,3]-.5*rho*(vx**2 + vy**2))\n",
    "        c=np.sqrt(self.gamma*p/rho)\n",
    "        return np.abs(vy)+c\n",
    "    \n",
    "# Equation instance\n",
    "eqn_euler = Euler(pars_euler, gamma=1.4)"
   ]
  },
  {
   "cell_type": "code",
   "execution_count": null,
   "metadata": {
    "code_folding": [
     0
    ],
    "hidden": true
   },
   "outputs": [],
   "source": [
    "# Solution\n",
    "soln_euler = centpy.Solver2d(eqn_euler)\n",
    "soln_euler.solve()"
   ]
  },
  {
   "cell_type": "code",
   "execution_count": null,
   "metadata": {
    "code_folding": [
     0
    ],
    "hidden": true
   },
   "outputs": [],
   "source": [
    "# Animation\n",
    "x_init = soln_euler.x_init\n",
    "x_final = soln_euler.x_final\n",
    "y_init = soln_euler.y_init\n",
    "y_final = soln_euler.y_final\n",
    "x = soln_euler.x\n",
    "y = soln_euler.y\n",
    "u_n = soln_euler.u_n\n",
    "Nt = soln_euler.Nt\n",
    "\n",
    "fig = plt.figure()\n",
    "ax = plt.axes(xlim=(x_init,x_final), ylim=(y_init, y_final))\n",
    "#levels=np.arange(-1, 1, 0.1) \n",
    "\n",
    "ax.contour(x[1:-1], y[1:-1], u_n[0,1:-1,1:-1,0]) \n",
    "def animate(i):\n",
    "    ax.collections = []\n",
    "    ax.contour(x[1:-1], y[1:-1], u_n[i,1:-1,1:-1,0])\n",
    "    \n",
    "# call the animator.  blit=True means only re-draw the parts that have changed.\n",
    "anim = animation.FuncAnimation(fig, animate, frames=Nt, interval=100, blit=False)\n",
    " \n",
    "plt.show()"
   ]
  },
  {
   "cell_type": "markdown",
   "metadata": {
    "heading_collapsed": true
   },
   "source": [
    "### MHD (SD2)"
   ]
  },
  {
   "cell_type": "markdown",
   "metadata": {
    "hidden": true
   },
   "source": [
    "We solve the equations of ideal magnetohydrodynamics in 1D \n",
    "\n",
    "\\begin{equation} \n",
    "\\partial_t \n",
    "\\begin{bmatrix} \n",
    "\\rho \\\\ \\rho v_x \\\\ \\rho v_y \\\\ \\rho v_z \\\\ B_x \\\\ B_y \\\\ B_z \\\\ E \n",
    "\\end{bmatrix} \n",
    "+ \n",
    "\\partial_x \n",
    "\\begin{bmatrix} \n",
    "\\rho v_x \\\\ \\rho v_x^2 + p^* - B_x^2 \\\\ \\rho v_x v_y - B_x B_y \\\\\n",
    "\\rho v_x v_z - B_x B_z \\\\ 0 \\\\ B_y v_x - B_x v_y \\\\ B_z v_x - B_x v_z \\\\\n",
    "(E+p^*) v_x - B_x (B_x v_x + B_y v_y + B_z v_Z) \n",
    "\\end{bmatrix} \n",
    "+ \n",
    "\\partial_y\n",
    "\\begin{bmatrix} \n",
    "\\rho v_y \\\\ \\rho v_y v_x - B_y B_x \\\\ \\rho v_y^2 + p^* - B_y^2  \\\\\n",
    "\\rho v_y v_z - B_y B_z \\\\ B_x v_y - B_y v_x \\\\ 0 \\\\ B_z v_y - B_y v_z \\\\\n",
    "(E+p^*) v_y - B_y (B_x v_x + B_y v_y + B_z v_Z) \n",
    "\\end{bmatrix} \n",
    "= 0 \n",
    "\\end{equation}\n",
    "\n",
    "where the total pressure is given by \n",
    "\n",
    "\\begin{equation}\n",
    "p^* = p + \\frac{1}{2} (B_x^2 + B_y^2 + B_z^2)\n",
    "\\end{equation}\n",
    "\n",
    "with the equation of state\n",
    "\n",
    "\\begin{equation}\n",
    "p = (\\gamma-1) \\left(E-\\frac{1}{2} \\rho (v_x^2+v_y^2+v_z^2) - \n",
    "\\frac{1}{2}(B_x^2 + B_y^2 + B_z^2)\\right), \\qquad \\gamma=5/3\n",
    "\\end{equation}\n",
    "\n",
    "The solution is computed on the domain $(x,y,t)\\in([0,2\\pi]\\times[0,2\\pi]\\times[0,3])$ with initial data for an *Orszag-Tang vortex system*:\n",
    "\n",
    "\\begin{equation}\n",
    "(\\rho, v_x, v_y, v_z, B_x, B_y, B_z, p)_{t=0} = \n",
    "(\\gamma^2, -\\sin y, \\sin x, 0, -\\sin y, \\sin (2x), 0, \\gamma)\n",
    "\\end{equation}\n",
    "\n",
    "and Dirichlet boundary data set by initial data on each boundary. The solution is computed using a 288$\\times$288 mesh and CFL number 0.75."
   ]
  },
  {
   "cell_type": "code",
   "execution_count": null,
   "metadata": {
    "code_folding": [
     0
    ],
    "hidden": true
   },
   "outputs": [],
   "source": [
    "# Parameters\n",
    "pars_mhd = centpy.Setup2d(\n",
    "    x_init = 0.0, x_final = 2.*np.pi,\n",
    "    y_init = 0.0, y_final = 2.*np.pi,\n",
    "    J = 144, K = 144,\n",
    "    t_final = 3.0, dt_out = 0.05, cfl = 0.75, scheme='sd2')"
   ]
  },
  {
   "cell_type": "code",
   "execution_count": null,
   "metadata": {
    "code_folding": [
     0
    ],
    "hidden": true
   },
   "outputs": [],
   "source": [
    "# Equation\n",
    "\n",
    "# Helper functions for the equation\n",
    "\n",
    "def pressure(u, gamma):\n",
    "    return (gamma-1.0)*(u[:,:,7]-0.5*(u[:,:,1]**2+u[:,:,2]**2+u[:,:,3]**2)/u[:,:,0]\\\n",
    "                     -0.5*(u[:,:,4]**2+u[:,:,5]**2+u[:,:,6]**2))\n",
    "\n",
    "def pressure_star(u, gamma):\n",
    "    return pressure(u, gamma) + 0.5*(u[:,:,4]**2+u[:,:,5]**2+u[:,:,6]**2) \n",
    "\n",
    "# Equation class\n",
    "class MHD(centpy.Equation2d):\n",
    "    def __init__(self, setup, gamma):\n",
    "        self.gamma = gamma\n",
    "        super().__init__(setup)\n",
    "\n",
    "    def initial_data(self): \n",
    "        u=np.zeros((self.J+4,self.K+4,8))\n",
    "        x=self.xx.T; y=self.yy.T\n",
    "        gamma = self.gamma\n",
    "        dx = self.dx; dy = self.dy\n",
    "        \n",
    "        u[:,:,0] = gamma**2\n",
    "        u[:,:,1] = u[:,:,0]/dy*(np.cos(y+0.5*dy)-np.cos(y-0.5*dy))\n",
    "        u[:,:,2] = 0.\n",
    "        u[:,:,3] = -u[:,:,0]/dx*(np.cos(x+0.5*dx)-np.cos(x-0.5*dx))\n",
    "        u[:,:,4] = 1./dy*(np.cos(y+0.5*dy)-np.cos(y-0.5*dy))\n",
    "        u[:,:,5] = 0.\n",
    "        u[:,:,6] = -0.5/dx*(np.cos(2.*(x+0.5*dx))-np.cos(2.*(x-0.5*dx)))\n",
    "\n",
    "        I1 =-0.125/dy*(u[:,:,0]+1.)*(np.sin(2.*(y+0.5*dy))-np.sin(2.*(y-0.5*dy)))\n",
    "        I2 =-0.125/dx*u[:,:,0]*(np.sin(2.*(x+0.5*dx))-np.sin(2.*(x-0.5*dx)))\n",
    "        I3 =-0.0625/dx*(np.sin(4.*(x+0.5*dx))-np.sin(4.*(x-0.5*dx)))\n",
    "        u[:,:,7] = 3.+0.5*u[:,:,0]+I1+I2+I3    \n",
    "\n",
    "        return u\n",
    "\n",
    "    def boundary_conditions(self, u): # periodic\n",
    "        # x-boundary\n",
    "        u[0] = u[-4]\n",
    "        u[1] = u[-3]\n",
    "        u[-2] = u[2]\n",
    "        u[-1] = u[3]\n",
    "        # y-boundary\n",
    "        u[:,0] = u[:,-4]\n",
    "        u[:,1] = u[:,-3]\n",
    "        u[:,-2] = u[:,2]\n",
    "        u[:,-1] = u[:,3]    \n",
    "\n",
    "    def flux_x(self, u):\n",
    "        f = np.empty_like(u)\n",
    "\n",
    "        p_star=pressure_star(u, self.gamma)\n",
    "\n",
    "        f[:,:,0]=u[:,:,1]\n",
    "        f[:,:,1]=u[:,:,1]**2/u[:,:,0] + p_star - u[:,:,4]**2\n",
    "        f[:,:,2]=u[:,:,1]*u[:,:,2]/u[:,:,0] - u[:,:,4]*u[:,:,5]\n",
    "        f[:,:,3]=u[:,:,1]*u[:,:,3]/u[:,:,0] - u[:,:,4]*u[:,:,6]\n",
    "        f[:,:,4]=0.\n",
    "        f[:,:,5]=u[:,:,1]*u[:,:,5]/u[:,:,0] - u[:,:,4]*u[:,:,2]/u[:,:,0]\n",
    "        f[:,:,6]=u[:,:,1]*u[:,:,6]/u[:,:,0] - u[:,:,4]*u[:,:,3]/u[:,:,0]\n",
    "        f[:,:,7]=(u[:,:,7]+p_star)*u[:,:,1]/u[:,:,0] - u[:,:,4]*(u[:,:,4]*u[:,:,1]/u[:,:,0]+u[:,:,5]*u[:,:,2]/u[:,:,0]+\\\n",
    "                                                                 u[:,:,6]*u[:,:,3]/u[:,:,0])\n",
    "\n",
    "        return f\n",
    "\n",
    "    def flux_y(self, u):\n",
    "        g = np.empty_like(u)\n",
    "\n",
    "        p_star=pressure_star(u, self.gamma)\n",
    "\n",
    "        g[:,:,0]=u[:,:,3]\n",
    "        g[:,:,1]=u[:,:,3]*u[:,:,1]/u[:,:,0] - u[:,:,4]*u[:,:,6]\n",
    "        g[:,:,2]=u[:,:,3]*u[:,:,2]/u[:,:,0] - u[:,:,5]*u[:,:,6]\n",
    "        g[:,:,3]=u[:,:,3]**2/u[:,:,0] + p_star - u[:,:,6]**2\n",
    "\n",
    "        g[:,:,4]=u[:,:,3]*u[:,:,4]/u[:,:,0] - u[:,:,6]*u[:,:,1]/u[:,:,0]\n",
    "        g[:,:,5]=u[:,:,3]*u[:,:,5]/u[:,:,0] - u[:,:,6]*u[:,:,2]/u[:,:,0]\n",
    "        g[:,:,6]=0.\n",
    "        g[:,:,7]=(u[:,:,7]+p_star)*u[:,:,3]/u[:,:,0] - u[:,:,6]*(u[:,:,4]*u[:,:,1]/u[:,:,0]+u[:,:,5]*u[:,:,2]/u[:,:,0]+\\\n",
    "                                                                 u[:,:,6]*u[:,:,3]/u[:,:,0])    \n",
    "\n",
    "        return g                   \n",
    "        \n",
    "    def spectral_radius_x(self, u):   \n",
    "        rho=u[:,:,0]\n",
    "        vx=u[:,:,1]/rho\n",
    "        vy=u[:,:,2]/rho\n",
    "        vz=u[:,:,3]/rho\n",
    "        p=(self.gamma-1.0)*(u[:,:,7]-.5*rho*(vx**2 + vy**2 + vz**2) - 0.5*(u[:,:,4]**2+u[:,:,5]**2+u[:,:,6]**2))\n",
    "        A=self.gamma*p/rho\n",
    "        B=(u[:,:,4]**2+u[:,:,5]**2+u[:,:,6]**2)/rho\n",
    "        cfx=np.sqrt(0.5*(A+B+np.sqrt((A+B)**2-4*A*u[:,:,4]**2/rho)))\n",
    "        cfy=np.sqrt(0.5*(A+B+np.sqrt((A+B)**2-4*A*u[:,:,6]**2/rho)))\n",
    "\n",
    "        return np.abs(vx)+cfx\n",
    "\n",
    "    def spectral_radius_y(self, u):\n",
    "        rho=u[:,:,0]\n",
    "        vx=u[:,:,1]/rho\n",
    "        vy=u[:,:,2]/rho\n",
    "        vz=u[:,:,3]/rho\n",
    "        p=(self.gamma-1.0)*(u[:,:,7]-.5*rho*(vx**2 + vy**2 + vz**2) - 0.5*(u[:,:,4]**2+u[:,:,5]**2+u[:,:,6]**2))\n",
    "        A=self.gamma*p/rho\n",
    "        B=(u[:,:,4]**2+u[:,:,5]**2+u[:,:,6]**2)/rho\n",
    "        cfx=np.sqrt(0.5*(A+B+np.sqrt((A+B)**2-4*A*u[:,:,4]**2/rho)))\n",
    "        cfy=np.sqrt(0.5*(A+B+np.sqrt((A+B)**2-4*A*u[:,:,6]**2/rho)))\n",
    "\n",
    "        return np.abs(vy)+cfy\n",
    "    \n",
    "# Equation instance\n",
    "eqn_mhd = MHD(pars_mhd, gamma=5./3)"
   ]
  },
  {
   "cell_type": "code",
   "execution_count": null,
   "metadata": {
    "code_folding": [
     0
    ],
    "hidden": true
   },
   "outputs": [],
   "source": [
    "# Solution\n",
    "soln_mhd = centpy.Solver2d(eqn_mhd)\n",
    "soln_mhd.solve()"
   ]
  },
  {
   "cell_type": "code",
   "execution_count": null,
   "metadata": {
    "code_folding": [
     0
    ],
    "hidden": true
   },
   "outputs": [],
   "source": [
    "# Animation\n",
    "\n",
    "x_init = soln_mhd.x_init\n",
    "x_final = soln_mhd.x_final\n",
    "y_init = soln_mhd.y_init\n",
    "y_final = soln_mhd.y_final\n",
    "x = soln_mhd.x\n",
    "y = soln_mhd.y\n",
    "u_n = soln_mhd.u_n\n",
    "Nt = soln_mhd.Nt\n",
    "j = centpy.j0\n",
    "\n",
    "fig = plt.figure()\n",
    "ax = plt.axes(xlim=(x_init,x_final), ylim=(y_init, y_final))\n",
    "\n",
    "ax.set_title(\"MHD Density\")\n",
    "ax.set_xlabel(\"x\")\n",
    "ax.set_ylabel(\"y\")\n",
    "\n",
    "#contours=ax.contour(x[j], y[j], u_n[0,j,j,0], 6, colors='black') \n",
    "img=ax.imshow(u_n[0,j,j,0], extent=[0, 6.3, 0, 6.3], origin='lower',\n",
    "           cmap='inferno', alpha=0.5)\n",
    "#cl=ax.clabel(contours, inline=True, fontsize=8)\n",
    "\n",
    "fig.colorbar(img)\n",
    "plt.axis(aspect='image')\n",
    "def animate(i):\n",
    "    ax.collections = []\n",
    "    ax.contour(x[j], y[j], u_n[i,j,j,0], 20, colors='black',linewidths=0.1) \n",
    "    img.set_array(u_n[i,j,j,0])\n",
    "    img.autoscale()\n",
    "    \n",
    "# call the animator.  blit=True means only re-draw the parts that have changed.\n",
    "anim = animation.FuncAnimation(fig, animate, frames=Nt, interval=50, blit=False)\n",
    " \n",
    "plt.show()"
   ]
  },
  {
   "cell_type": "code",
   "execution_count": null,
   "metadata": {
    "code_folding": [
     0
    ],
    "hidden": true
   },
   "outputs": [],
   "source": [
    "# Wireframe\n",
    "xx = soln_mhd.xx\n",
    "yy = soln_mhd.yy\n",
    "\n",
    "from mpl_toolkits.mplot3d import axes3d\n",
    "\n",
    "fig = plt.figure()\n",
    "ax = axes3d.Axes3D(fig)\n",
    "\n",
    "wframe = ax.plot_wireframe(xx, yy, u_n[0,:,:,0], rstride=2, cstride=2)\n",
    "#ax.set_zlim(-1,1)\n",
    "\n",
    "def update(i, ax, fig):\n",
    "    ax.cla()\n",
    "    wframe = ax.plot_wireframe(xx,yy,u_n[i,:,:,0], rstride=2, cstride=2)\n",
    "    #ax.set_zlim(-1,1)\n",
    "    return wframe,\n",
    "\n",
    "ani = animation.FuncAnimation(fig, update, \n",
    "        frames=Nt, \n",
    "        fargs=(ax, fig), interval=100)\n",
    "plt.show()"
   ]
  }
 ],
 "metadata": {
  "kernelspec": {
   "display_name": "Python 3",
   "language": "python",
   "name": "python3"
  },
  "language_info": {
   "codemirror_mode": {
    "name": "ipython",
    "version": 3
   },
   "file_extension": ".py",
   "mimetype": "text/x-python",
   "name": "python",
   "nbconvert_exporter": "python",
   "pygments_lexer": "ipython3",
   "version": "3.8.3"
  }
 },
 "nbformat": 4,
 "nbformat_minor": 4
}
