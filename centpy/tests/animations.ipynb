{
 "cells": [
  {
   "cell_type": "markdown",
   "metadata": {},
   "source": [
    "# Animations"
   ]
  },
  {
   "cell_type": "markdown",
   "metadata": {
    "code_folding": [],
    "heading_collapsed": true
   },
   "source": [
    "### Setup"
   ]
  },
  {
   "cell_type": "code",
   "execution_count": null,
   "metadata": {
    "hidden": true
   },
   "outputs": [],
   "source": [
    "import sys\n",
    "sys.path.append(\"../../\")"
   ]
  },
  {
   "cell_type": "code",
   "execution_count": null,
   "metadata": {
    "hidden": true
   },
   "outputs": [],
   "source": [
    "import numpy as np\n",
    "import centpy\n",
    "from example_equations import *\n",
    "from example_parameters import *"
   ]
  },
  {
   "cell_type": "code",
   "execution_count": null,
   "metadata": {
    "code_folding": [],
    "hidden": true
   },
   "outputs": [],
   "source": [
    "# Setup visualization\n",
    "%matplotlib notebook\n",
    "from matplotlib import rcParams\n",
    "rcParams['figure.dpi']  = 60\n",
    "import matplotlib.pyplot as plt\n",
    "from matplotlib import animation\n",
    "\n",
    "j0 = slice(2, -2)"
   ]
  },
  {
   "cell_type": "markdown",
   "metadata": {},
   "source": [
    "## 1D "
   ]
  },
  {
   "cell_type": "markdown",
   "metadata": {
    "heading_collapsed": true
   },
   "source": [
    "### Burgers (SD3)"
   ]
  },
  {
   "cell_type": "markdown",
   "metadata": {
    "hidden": true
   },
   "source": [
    "We solve the inviscid Burgers' equation \n",
    "\n",
    "\\begin{equation}\n",
    "\\partial_t u + \\partial_x \\left( \\frac{u^2}{2}\\right) = 0,\n",
    "\\end{equation}\n",
    "\n",
    "on the domain $(x,t)\\in([0,2\\pi]\\times[0,5])$ with initial data\n",
    "\n",
    "\\begin{equation}\n",
    "u(x,0) = \\sin x + \\frac{1}{2} \\sin\\left(\\frac{x}{2}\\right)\\,. \n",
    "\\end{equation}\n",
    "\n",
    "and periodic boundary conditions. The solution is computed using 400 cells and CFL number 0.75."
   ]
  },
  {
   "cell_type": "code",
   "execution_count": null,
   "metadata": {
    "code_folding": [
     0
    ],
    "hidden": true
   },
   "outputs": [],
   "source": [
    "# Setup and solution\n",
    "\n",
    "# Solver instance\n",
    "soln_burgers = centpy.Solver1d(Burgers1d(pars_burgers1d))\n",
    "\n",
    "# Solution\n",
    "soln_burgers.solve()"
   ]
  },
  {
   "cell_type": "code",
   "execution_count": null,
   "metadata": {
    "code_folding": [
     0
    ],
    "hidden": true
   },
   "outputs": [],
   "source": [
    "# Animation \n",
    "\n",
    "# First set up the figure, the axis, and the plot element we want to animate\n",
    "fig = plt.figure()\n",
    "ax = plt.axes(xlim=(soln_burgers.x_init,soln_burgers.x_final), ylim=(np.min(soln_burgers.u_n), np.max(soln_burgers.u_n)*1.1))\n",
    "\n",
    "line_u, = ax.plot([], [], linewidth=1, marker='o', markersize=2)\n",
    "\n",
    "plt.xlabel('x')\n",
    "plt.ylabel('u')\n",
    "plt.legend([\"burgers\"], loc=3, frameon=False)\n",
    " \n",
    "# initialization function: plot the background of each frame\n",
    "def init():\n",
    "    line_u.set_data([], [])\n",
    "\n",
    "# animation function.  This is called sequentially\n",
    "def animate(i):\n",
    "    line_u.set_data(soln_burgers.x[j0], soln_burgers.u_n[i,j0])\n",
    "    \n",
    "# call the animator.  blit=True means only re-draw the parts that have changed.\n",
    "anim = animation.FuncAnimation(fig, animate, init_func=init, frames=soln_burgers.Nt, interval=100, blit=False)\n",
    " \n",
    "plt.show()"
   ]
  },
  {
   "cell_type": "markdown",
   "metadata": {
    "heading_collapsed": true
   },
   "source": [
    "### Euler (SD2)"
   ]
  },
  {
   "cell_type": "markdown",
   "metadata": {
    "hidden": true
   },
   "source": [
    "We solve the Euler equations in 1D \n",
    "\n",
    "\\begin{equation} \n",
    "\\partial_t \n",
    "\\begin{bmatrix} \\rho \\\\ \\rho v \\\\ E \\end{bmatrix} \n",
    "+ \n",
    "\\partial_x \n",
    "\\begin{bmatrix} \\rho v \\\\ \\rho v^2 +p \\\\ v (E+p) \\end{bmatrix} \n",
    "= 0 \n",
    "\\end{equation}\n",
    "\n",
    "with the equation of state\n",
    "\n",
    "\\begin{equation}\n",
    "p = (\\gamma-1) \\left(E-\\frac{1}{2} \\rho v^2\\right), \\qquad \\gamma=1.4\n",
    "\\end{equation}\n",
    "\n",
    "on the domain $(x,t)\\in([0,1]\\times[0,0.1])$ with initial data for a *Sod shock tube*:\n",
    "\n",
    "\\begin{equation}\n",
    "(\\rho, v, p)_{t=0} = \n",
    "\\begin{cases}\n",
    "(1,0,1) & \\text{if} & 0<x\\leq0.5 \\\\\n",
    "(0.125, 0, 0.1) & \\text{if} & 0.5<x<1\n",
    "\\end{cases}\n",
    "\\end{equation}\n",
    "\n",
    "and Dirichlet boundary data set by initial data on each boundary. The solution is computed using 400 cells and CFL number 0.75."
   ]
  },
  {
   "cell_type": "code",
   "execution_count": null,
   "metadata": {
    "code_folding": [
     0
    ],
    "hidden": true
   },
   "outputs": [],
   "source": [
    "# Setup and solution\n",
    "\n",
    "# Solver instance\n",
    "soln_euler = centpy.Solver1d(Euler1d(pars_euler1d))\n",
    "\n",
    "# Solution\n",
    "soln_euler.solve()"
   ]
  },
  {
   "cell_type": "code",
   "execution_count": null,
   "metadata": {
    "code_folding": [
     0
    ],
    "hidden": true
   },
   "outputs": [],
   "source": [
    "# Animation \n",
    "u_n = soln_euler.u_n.copy()\n",
    "x   = soln_euler.x.copy()\n",
    "gamma = soln_euler.gamma \n",
    "Nt = soln_euler.Nt \n",
    "\n",
    "# First set up the figure, the axis, and the plot element we want to animate\n",
    "fig = plt.figure(figsize=(10,8))\n",
    "ax1=fig.add_subplot(1,2,1)\n",
    "ax2=fig.add_subplot(2,2,2)\n",
    "ax3=fig.add_subplot(2,2,4)\n",
    "#ax = plt.axes(xlim=(x_init,x_final), ylim=(np.min(u_n), np.max(u_n)*1.1))\n",
    "\n",
    "line_u1, = ax1.plot([], [], linewidth=1, marker='o', markersize=2)\n",
    "line_u2, = ax2.plot([], [], linewidth=1, marker='o', markersize=2)\n",
    "line_u3, = ax3.plot([], [], linewidth=1, marker='o', markersize=2)\n",
    "\n",
    "ax1.set_xlabel('x')\n",
    "ax3.set_xlabel('x')\n",
    "ax1.set_ylabel(r'$\\rho$')\n",
    "ax2.set_ylabel(r'$v_x$')\n",
    "ax3.set_ylabel(r'$p$')\n",
    "ax1.set_ylim(0.1, 1.05)\n",
    "ax2.set_ylim(0, 1)\n",
    "ax3.set_ylim(0.05, 1.1)\n",
    "#plt.legend([\"u0\",\"u1\",\"u2\"], loc=3, frameon=False)\n",
    "\n",
    "plt.subplots_adjust(bottom=0.1, right=0.8, top=0.9)\n",
    "\n",
    "# initialization function: plot the background of each frame\n",
    "def init():\n",
    "    line_u1.set_data([], [])\n",
    "    line_u2.set_data([], [])\n",
    "    line_u3.set_data([], [])\n",
    "\n",
    "# animation function.  This is called sequentially\n",
    "def animate(i):\n",
    "    rho=u_n[i,j0,0]\n",
    "    u_x = u_n[i,j0,1]/u_n[i,j0,0]\n",
    "    p = (gamma-1.)*(u_n[i,j0,2]-0.5*rho*u_x**2)\n",
    "    line_u1.set_data(x[j0], rho)\n",
    "    line_u2.set_data(x[j0], u_x)\n",
    "    line_u3.set_data(x[j0], p)\n",
    "    \n",
    "# call the animator.  blit=True means only re-draw the parts that have changed.\n",
    "anim = animation.FuncAnimation(fig, animate, init_func=init, frames=Nt, interval=100, blit=False)\n",
    " \n",
    "plt.show()"
   ]
  },
  {
   "cell_type": "markdown",
   "metadata": {
    "heading_collapsed": true
   },
   "source": [
    "### MHD (FD2)"
   ]
  },
  {
   "cell_type": "markdown",
   "metadata": {
    "hidden": true
   },
   "source": [
    "We solve the equations of ideal magnetohydrodynamics in 1D \n",
    "\n",
    "\\begin{equation} \n",
    "\\partial_t \n",
    "\\begin{bmatrix} \n",
    "\\rho \\\\ \\rho v_x \\\\ \\rho v_y \\\\ \\rho v_z \\\\ B_y \\\\ B_z \\\\ E \n",
    "\\end{bmatrix} \n",
    "+ \n",
    "\\partial_x \n",
    "\\begin{bmatrix} \n",
    "\\rho v_x \\\\ \\rho v_x^2 + p^* - B_x^2 \\\\ \\rho v_x v_y - B_x B_y \\\\\n",
    "\\rho v_x v_z - B_x B_z \\\\ B_y v_x - B_x v_y \\\\ B_z v_x - B_x v_z \\\\\n",
    "(E+p^*) v_x - B_x (B_x v_x + B_y v_y + B_z v_Z) \n",
    "\\end{bmatrix} \n",
    "= 0 \n",
    "\\end{equation}\n",
    "\n",
    "where the total pressure is given by \n",
    "\n",
    "\\begin{equation}\n",
    "p^* = p + \\frac{1}{2} (B_x^2 + B_y^2 + B_z^2)\n",
    "\\end{equation}\n",
    "\n",
    "with the equation of state\n",
    "\n",
    "\\begin{equation}\n",
    "p = (\\gamma-1) \\left(E-\\frac{1}{2} \\rho (v_x^2+v_y^2+v_z^2) - \n",
    "\\frac{1}{2}(B_x^2 + B_y^2 + B_z^2)\\right), \\qquad \\gamma=2.0\n",
    "\\end{equation}\n",
    "\n",
    "The solution is computed on the domain $(x,t)\\in([-1,1]\\times[0,0.2])$ with initial data for a *Brio-Wu shock tube*:\n",
    "\n",
    "\\begin{equation}\n",
    "(\\rho, v_x, v_y, v_z, B_y, B_z, p)_{t=0} = \n",
    "\\begin{cases}\n",
    "(1,0,0,0,1,0,1) & \\text{if} & -1<x\\leq 0 \\\\\n",
    "(0.125, 0, 0, 0, -1, 0, 0.1) & \\text{if} & \\ \\ 0<x<1\n",
    "\\end{cases}\n",
    "\\end{equation}\n",
    "\n",
    "and Dirichlet boundary data set by initial data on each boundary. The solution is computed using 400 cells and CFL number 0.475."
   ]
  },
  {
   "cell_type": "code",
   "execution_count": null,
   "metadata": {
    "code_folding": [
     0
    ],
    "hidden": true
   },
   "outputs": [],
   "source": [
    "# Set up and solution\n",
    "\n",
    "# Equation\n",
    "eqn_mhd = MHD1d(pars_mhd1d)\n",
    "\n",
    "# Solver instance\n",
    "soln_mhd = centpy.Solver1d(eqn_mhd)\n",
    "\n",
    "# Solution\n",
    "soln_mhd.solve()"
   ]
  },
  {
   "cell_type": "code",
   "execution_count": null,
   "metadata": {
    "code_folding": [
     0
    ],
    "hidden": true
   },
   "outputs": [],
   "source": [
    "# Animation \n",
    " \n",
    "u_n = soln_mhd1d.u_n.copy()\n",
    "x   = soln_mhd1d.x.copy()\n",
    "Nt  = soln_mhd1d.Nt \n",
    "pressure = eqn_mhd.pressure\n",
    "# First set up the figure, the axis, and the plot element we want to animate\n",
    "fig = plt.figure(figsize=(12,6))\n",
    "ax1=fig.add_subplot(1,3,1)\n",
    "ax2=fig.add_subplot(2,3,2)\n",
    "ax3=fig.add_subplot(2,3,3)\n",
    "ax4=fig.add_subplot(2,3,5)\n",
    "ax5=fig.add_subplot(2,3,6)\n",
    "#ax = plt.axes(xlim=(x_init,x_final), ylim=(np.min(u_n), np.max(u_n)*1.1))\n",
    "\n",
    "line_u1, = ax1.plot([], [], linewidth=1, marker='o', markersize=2)\n",
    "line_u2, = ax2.plot([], [], linewidth=1, marker='o', markersize=2)\n",
    "line_u3, = ax3.plot([], [], linewidth=1, marker='o', markersize=2)\n",
    "line_u4, = ax4.plot([], [], linewidth=1, marker='o', markersize=2)\n",
    "line_u5, = ax5.plot([], [], linewidth=1, marker='o', markersize=2)\n",
    "\n",
    "ax1.set_xlabel('x')\n",
    "ax4.set_xlabel('x')\n",
    "ax5.set_xlabel('x')\n",
    "\n",
    "ax2.set_xticks([])\n",
    "ax3.set_xticks([])\n",
    "ax2.set_yticks([])\n",
    "ax3.set_yticks([])\n",
    "ax4.set_yticks([])\n",
    "ax5.set_yticks([])\n",
    "\n",
    "ax1.set_ylabel(r'$\\rho$', fontsize=12)\n",
    "ax2.set_ylabel(r'$v_x$', fontsize=12)\n",
    "ax3.set_ylabel(r'$v_y$', fontsize=12)\n",
    "ax4.set_ylabel(r'$B_y$', fontsize=12)\n",
    "ax5.set_ylabel(r'$p$', fontsize=12)\n",
    "\n",
    "# Primitive variables\n",
    "rho=u_n[:,j0,0]\n",
    "v_x = u_n[:,j0,1]/u_n[:,j0,0]\n",
    "v_y = u_n[:,j0,2]/u_n[:,j0,0]\n",
    "B_y = u_n[:,j0,4]\n",
    "\n",
    "ax1.set_xlim(-1, 1)\n",
    "ax2.set_xlim(-1, 1)\n",
    "ax3.set_xlim(-1, 1)\n",
    "ax4.set_xlim(-1, 1)\n",
    "ax5.set_xlim(-1, 1)\n",
    "ax1.set_ylim(np.min(rho), np.max(rho))\n",
    "ax2.set_ylim(np.min(v_x), np.max(v_x))\n",
    "ax3.set_ylim(np.min(v_y), np.max(v_y))\n",
    "ax4.set_ylim(np.min(B_y), np.max(B_y))\n",
    "ax5.set_ylim(0.05, 1.)\n",
    "\n",
    "#plt.subplots_adjust(bottom=0.1, right=0.8, top=0.9)\n",
    "\n",
    "# initialization function: plot the background of each frame\n",
    "def init():\n",
    "    line_u1.set_data([], [])\n",
    "    line_u2.set_data([], [])\n",
    "    line_u3.set_data([], [])\n",
    "    line_u4.set_data([], [])\n",
    "    line_u5.set_data([], [])\n",
    "\n",
    "# animation function.  This is called sequentially\n",
    "def animate(i):\n",
    "    p = pressure(u_n[i,j0,:])\n",
    "    line_u1.set_data(x[j0], rho[i])\n",
    "    line_u2.set_data(x[j0], v_x[i])\n",
    "    line_u3.set_data(x[j0], v_y[i])\n",
    "    line_u4.set_data(x[j0], B_y[i])\n",
    "    line_u5.set_data(x[j0], p)\n",
    "    \n",
    "# call the animator.  blit=True means only re-draw the parts that have changed.\n",
    "anim = animation.FuncAnimation(fig, animate, init_func=init, frames=Nt, interval=100, blit=False)\n",
    " \n",
    "plt.show()"
   ]
  },
  {
   "cell_type": "markdown",
   "metadata": {},
   "source": [
    "## 2D"
   ]
  },
  {
   "cell_type": "markdown",
   "metadata": {
    "heading_collapsed": true
   },
   "source": [
    "### Scalar (SD3)"
   ]
  },
  {
   "cell_type": "markdown",
   "metadata": {
    "hidden": true
   },
   "source": [
    "We solve the nonlinear scalar conservation law \n",
    "\n",
    "\\begin{equation}\n",
    "\\partial_t u + \\partial_x \\sin u + \\frac{1}{3} \\partial_y u^3= 0,\n",
    "\\end{equation}\n",
    "\n",
    "on the domain $(x,y,t)\\in([0,2\\pi]\\times[0,2\\pi]\\times[0,6])$ with initial data\n",
    "\n",
    "\\begin{equation}\n",
    "u(x,y,0) = \\sin \\left(x+\\frac{1}{2}\\right) \\cos(2x+y)\n",
    "\\end{equation}\n",
    "\n",
    "and periodic boundary conditions. The solution is computed using a 144 $\\times$ 144 mesh and CFL number 0.9."
   ]
  },
  {
   "cell_type": "code",
   "execution_count": null,
   "metadata": {
    "code_folding": [],
    "hidden": true
   },
   "outputs": [],
   "source": [
    "# Setup and solution\n",
    "\n",
    "# Solver instance\n",
    "soln_scalar = centpy.Solver2d(Scalar2d(pars_scalar2d))\n",
    "\n",
    "# Solution\n",
    "soln_scalar.solve()"
   ]
  },
  {
   "cell_type": "code",
   "execution_count": null,
   "metadata": {
    "code_folding": [
     0
    ],
    "hidden": true
   },
   "outputs": [],
   "source": [
    "# Animation\n",
    "x_init = soln_scalar.x_init\n",
    "x_final = soln_scalar.x_final\n",
    "y_init = soln_scalar.y_init\n",
    "y_final = soln_scalar.y_final\n",
    "x = soln_scalar.x\n",
    "y = soln_scalar.y\n",
    "u_n = soln_scalar.u_n\n",
    "Nt = soln_scalar.Nt\n",
    "\n",
    "fig = plt.figure()\n",
    "ax = plt.axes(xlim=(x_init,x_final), ylim=(y_init, y_final))\n",
    "\n",
    "ax.set_title(\"Nonlinear scalar\")\n",
    "ax.set_xlabel(\"x\")\n",
    "ax.set_ylabel(\"y\")\n",
    "\n",
    "contours=ax.contour(x[j0], y[j0], u_n[0,j0,j0], 8, colors='black') \n",
    "img=ax.imshow(u_n[0,j0,j0], extent=[0, 6.3, 0, 6.3], origin='lower',\n",
    "           cmap='ocean', alpha=0.5)\n",
    "#cl=ax.clabel(contours, inline=True, fontsize=8)\n",
    "\n",
    "fig.colorbar(img)\n",
    "plt.axis(aspect='image')\n",
    "def animate(i):\n",
    "    ax.collections = []\n",
    "    ax.contour(x[j0], y[j0], u_n[i,j0,j0], 8, colors='black') \n",
    "#    cl=ax.clabel(contours, inline=True, fontsize=8)\n",
    "    img.set_array(u_n[i,j0,j0])\n",
    "    img.autoscale()\n",
    "    \n",
    "# call the animator.  blit=True means only re-draw the parts that have changed.\n",
    "anim = animation.FuncAnimation(fig, animate, frames=Nt, interval=100, blit=False)\n",
    " \n",
    "plt.show()"
   ]
  },
  {
   "cell_type": "markdown",
   "metadata": {
    "heading_collapsed": true
   },
   "source": [
    "### Euler (FD2)"
   ]
  },
  {
   "cell_type": "markdown",
   "metadata": {
    "hidden": true
   },
   "source": [
    "We solve the Euler equations in 2D \n",
    "\n",
    "\\begin{equation} \n",
    "\\partial_t \n",
    "\\begin{bmatrix} \\rho \\\\ \\rho u_x \\\\ rho u_y \\\\ E \\end{bmatrix} \n",
    "+ \n",
    "\\partial_x \n",
    "\\begin{bmatrix} \\rho u_x \\\\ \\rho u_x^2 + p \\\\  \\rho u_x u_y \\\\ (E+p) u_x \\end{bmatrix} \n",
    "+ \n",
    "\\partial_y \n",
    "\\begin{bmatrix} \\rho u_y \\\\ \\rho u_y u_x \\\\  \\rho u_y^2 +p \\\\ (E+p) u_y \\end{bmatrix} \n",
    "= 0 \n",
    "\\end{equation}\n",
    "\n",
    "with the equation of state\n",
    "\n",
    "\\begin{equation}\n",
    "p = (\\gamma-1) \\left(E-\\frac{1}{2} \\rho (u_x^2 - u_y^2) \\right), \\qquad \\gamma=1.4\n",
    "\\end{equation}\n",
    "\n",
    "on the domain $(x,y,t)\\in([0,1]\\times[0,1]\\times[0,0.1])$ with initial data for a *2D Riemann problem*:\n",
    "\n",
    "\\begin{equation}\n",
    "(\\rho, v, p)_{t=0} = \n",
    "\\begin{cases}\n",
    "(1,0,1) & \\text{if} & 0<x\\leq0.5 \\\\\n",
    "(0.125, 0, 0.1) & \\text{if} & 0.5<x<1\n",
    "\\end{cases}\n",
    "\\end{equation}\n",
    "\n",
    "and Dirichlet boundary data set by initial data on each boundary. The solution is computed using a 200 $\\times$ 200 mesh and CFL number 0.75."
   ]
  },
  {
   "cell_type": "code",
   "execution_count": null,
   "metadata": {
    "code_folding": [],
    "hidden": true
   },
   "outputs": [],
   "source": [
    "# Setup and solution\n",
    "\n",
    "# Solver instance\n",
    "soln_euler = centpy.Solver2d(Euler2d(pars_euler2d))\n",
    "\n",
    "# Solution\n",
    "soln_euler.solve()"
   ]
  },
  {
   "cell_type": "code",
   "execution_count": null,
   "metadata": {
    "code_folding": [
     0
    ],
    "hidden": true
   },
   "outputs": [],
   "source": [
    "# Animation\n",
    "x_init = soln_euler.x_init\n",
    "x_final = soln_euler.x_final\n",
    "y_init = soln_euler.y_init\n",
    "y_final = soln_euler.y_final\n",
    "x = soln_euler.x\n",
    "y = soln_euler.y\n",
    "u_n = soln_euler.u_n\n",
    "Nt = soln_euler.Nt\n",
    "\n",
    "fig = plt.figure()\n",
    "ax = plt.axes(xlim=(x_init,x_final), ylim=(y_init, y_final))\n",
    "#levels=np.arange(-1, 1, 0.1) \n",
    "\n",
    "ax.contour(x[1:-1], y[1:-1], u_n[0,1:-1,1:-1,0]) \n",
    "def animate(i):\n",
    "    ax.collections = []\n",
    "    ax.contour(x[1:-1], y[1:-1], u_n[i,1:-1,1:-1,0])\n",
    "    \n",
    "# call the animator.  blit=True means only re-draw the parts that have changed.\n",
    "anim = animation.FuncAnimation(fig, animate, frames=Nt, interval=100, blit=False)\n",
    " \n",
    "plt.show()"
   ]
  },
  {
   "cell_type": "markdown",
   "metadata": {
    "heading_collapsed": true
   },
   "source": [
    "### MHD (SD2)"
   ]
  },
  {
   "cell_type": "markdown",
   "metadata": {
    "hidden": true
   },
   "source": [
    "We solve the equations of ideal magnetohydrodynamics in 1D \n",
    "\n",
    "\\begin{equation} \n",
    "\\partial_t \n",
    "\\begin{bmatrix} \n",
    "\\rho \\\\ \\rho v_x \\\\ \\rho v_y \\\\ \\rho v_z \\\\ B_x \\\\ B_y \\\\ B_z \\\\ E \n",
    "\\end{bmatrix} \n",
    "+ \n",
    "\\partial_x \n",
    "\\begin{bmatrix} \n",
    "\\rho v_x \\\\ \\rho v_x^2 + p^* - B_x^2 \\\\ \\rho v_x v_y - B_x B_y \\\\\n",
    "\\rho v_x v_z - B_x B_z \\\\ 0 \\\\ B_y v_x - B_x v_y \\\\ B_z v_x - B_x v_z \\\\\n",
    "(E+p^*) v_x - B_x (B_x v_x + B_y v_y + B_z v_Z) \n",
    "\\end{bmatrix} \n",
    "+ \n",
    "\\partial_y\n",
    "\\begin{bmatrix} \n",
    "\\rho v_y \\\\ \\rho v_y v_x - B_y B_x \\\\ \\rho v_y^2 + p^* - B_y^2  \\\\\n",
    "\\rho v_y v_z - B_y B_z \\\\ B_x v_y - B_y v_x \\\\ 0 \\\\ B_z v_y - B_y v_z \\\\\n",
    "(E+p^*) v_y - B_y (B_x v_x + B_y v_y + B_z v_Z) \n",
    "\\end{bmatrix} \n",
    "= 0 \n",
    "\\end{equation}\n",
    "\n",
    "where the total pressure is given by \n",
    "\n",
    "\\begin{equation}\n",
    "p^* = p + \\frac{1}{2} (B_x^2 + B_y^2 + B_z^2)\n",
    "\\end{equation}\n",
    "\n",
    "with the equation of state\n",
    "\n",
    "\\begin{equation}\n",
    "p = (\\gamma-1) \\left(E-\\frac{1}{2} \\rho (v_x^2+v_y^2+v_z^2) - \n",
    "\\frac{1}{2}(B_x^2 + B_y^2 + B_z^2)\\right), \\qquad \\gamma=5/3\n",
    "\\end{equation}\n",
    "\n",
    "The solution is computed on the domain $(x,y,t)\\in([0,2\\pi]\\times[0,2\\pi]\\times[0,3])$ with initial data for an *Orszag-Tang vortex system*:\n",
    "\n",
    "\\begin{equation}\n",
    "(\\rho, v_x, v_y, v_z, B_x, B_y, B_z, p)_{t=0} = \n",
    "(\\gamma^2, -\\sin y, \\sin x, 0, -\\sin y, \\sin (2x), 0, \\gamma)\n",
    "\\end{equation}\n",
    "\n",
    "and Dirichlet boundary data set by initial data on each boundary. The solution is computed using a 288$\\times$288 mesh and CFL number 0.75."
   ]
  },
  {
   "cell_type": "code",
   "execution_count": null,
   "metadata": {
    "code_folding": [
     0
    ],
    "hidden": true
   },
   "outputs": [],
   "source": [
    "# Setup and solution\n",
    "\n",
    "# Solver instance\n",
    "soln_mhd = centpy.Solver2d(MHD2d(pars_mhd2d))\n",
    "\n",
    "# Solution\n",
    "soln_mhd.solve()"
   ]
  },
  {
   "cell_type": "code",
   "execution_count": null,
   "metadata": {
    "code_folding": [
     0
    ],
    "hidden": true
   },
   "outputs": [],
   "source": [
    "# Animation\n",
    "\n",
    "x_init = soln_mhd.x_init\n",
    "x_final = soln_mhd.x_final\n",
    "y_init = soln_mhd.y_init\n",
    "y_final = soln_mhd.y_final\n",
    "x = soln_mhd.x\n",
    "y = soln_mhd.y\n",
    "u_n = soln_mhd.u_n\n",
    "Nt = soln_mhd.Nt\n",
    "\n",
    "fig = plt.figure()\n",
    "ax = plt.axes(xlim=(x_init,x_final), ylim=(y_init, y_final))\n",
    "\n",
    "ax.set_title(\"MHD Density\")\n",
    "ax.set_xlabel(\"x\")\n",
    "ax.set_ylabel(\"y\")\n",
    "\n",
    "#contours=ax.contour(x[j], y[j], u_n[0,j,j,0], 6, colors='black') \n",
    "img=ax.imshow(u_n[0,j0,j0,0], extent=[0, 6.3, 0, 6.3], origin='lower',\n",
    "           cmap='inferno', alpha=0.5)\n",
    "#cl=ax.clabel(contours, inline=True, fontsize=8)\n",
    "\n",
    "fig.colorbar(img)\n",
    "plt.axis(aspect='image')\n",
    "def animate(i):\n",
    "    ax.collections = []\n",
    "    ax.contour(x[j0], y[j0], u_n[i,j0,j0,0], 20, colors='black',linewidths=0.1) \n",
    "    img.set_array(u_n[i,j0,j0,0])\n",
    "    img.autoscale()\n",
    "    \n",
    "# call the animator.  blit=True means only re-draw the parts that have changed.\n",
    "anim = animation.FuncAnimation(fig, animate, frames=Nt, interval=50, blit=False)\n",
    " \n",
    "plt.show()"
   ]
  },
  {
   "cell_type": "code",
   "execution_count": null,
   "metadata": {
    "hidden": true
   },
   "outputs": [],
   "source": []
  }
 ],
 "metadata": {
  "kernelspec": {
   "display_name": "Python 3",
   "language": "python",
   "name": "python3"
  },
  "language_info": {
   "codemirror_mode": {
    "name": "ipython",
    "version": 3
   },
   "file_extension": ".py",
   "mimetype": "text/x-python",
   "name": "python",
   "nbconvert_exporter": "python",
   "pygments_lexer": "ipython3",
   "version": "3.8.3"
  }
 },
 "nbformat": 4,
 "nbformat_minor": 4
}
